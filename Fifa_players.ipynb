{
 "cells": [
  {
   "cell_type": "code",
   "execution_count": 1,
   "metadata": {},
   "outputs": [],
   "source": [
    "import pandas as pd\n",
    "from bs4 import BeautifulSoup\n",
    "import requests"
   ]
  },
  {
   "cell_type": "code",
   "execution_count": 49,
   "metadata": {},
   "outputs": [],
   "source": [
    "# Counting the number of ids of the players\n",
    "page = requests.get(\"https://www.fifa.com/worldcup/players/_libraries/byposition/[id]/_players-list.html\")\n",
    "soup1 = BeautifulSoup(page.content, \"html.parser\")\n",
    "No_of_players = len(soup1.find_all(\"span\",{\"class\":\"fi-p__num\"}))"
   ]
  },
  {
   "cell_type": "code",
   "execution_count": 50,
   "metadata": {},
   "outputs": [],
   "source": [
    "# List of ids\n",
    "idList = []"
   ]
  },
  {
   "cell_type": "code",
   "execution_count": 51,
   "metadata": {},
   "outputs": [],
   "source": [
    "# Storing the ids of players in the list\n",
    "for ids in range(0,No_of_players):\n",
    "    playerID = soup1.find_all(\"a\",{\"class\":\"fi-p--link\"})[ids]['data-player-id']\n",
    "    idList.append(playerID)"
   ]
  },
  {
   "cell_type": "code",
   "execution_count": 5,
   "metadata": {},
   "outputs": [],
   "source": [
    "# List of stored data of players\n",
    "playerList = []"
   ]
  },
  {
   "cell_type": "code",
   "execution_count": 6,
   "metadata": {},
   "outputs": [],
   "source": [
    "base_url = \"https://www.fifa.com/worldcup/players/player/\""
   ]
  },
  {
   "cell_type": "code",
   "execution_count": 41,
   "metadata": {},
   "outputs": [],
   "source": [
    "for i in idList:\n",
    "    d = {}\n",
    "    request1 = requests.get(base_url+str(i)+\"/profile.html\")\n",
    "    soup = BeautifulSoup(request1.content, \"html.parser\")\n",
    "    try:\n",
    "        d[\"Name\"] = soup.find(\"h1\",{\"class\":\"fi-ph__player__name\"}).text.strip()\n",
    "    except:\n",
    "        d[\"Name\"] = None\n",
    "    try:\n",
    "        d[\"Country\"] = soup.find(\"div\",{\"class\":\"fi-p__country\"}).text.strip()\n",
    "    except:\n",
    "        d[\"Country\"] = None\n",
    "    try:    \n",
    "        d[\"Role\"] = soup.find(\"div\",{\"class\":\"fi-p__role\"}).text.strip()\n",
    "    except:\n",
    "        d[\"Role\"] = None\n",
    "    try:\n",
    "        d[\"Age\"] = soup.find(\"div\",{\"class\":\"fi-p__profile-number__number\"}).text.strip()\n",
    "    except:\n",
    "        d[\"Age\"] = None\n",
    "    try:\n",
    "        d[\"Height(cm)\"] = soup.find_all(\"div\",{\"class\":\"fi-p__profile-number__number\"})[1].text.strip()\n",
    "    except:\n",
    "        d[\"Height(cm)\"] = None\n",
    "    try:\n",
    "        d[\"International Caps\"] = soup.find_all(\"div\",{\"class\":\"fi-p__profile-number__number\"})[2].text.strip()\n",
    "    except:\n",
    "        d[\"International Caps\"] = None\n",
    "    try:\n",
    "        d[\"International Goals\"] = soup.find_all(\"div\",{\"class\":\"fi-p__profile-number__number\"})[3].text.strip()\n",
    "    except:\n",
    "        d[\"International Goals\"] = None\n",
    "        \n",
    "    playerList.append(d)"
   ]
  },
  {
   "cell_type": "code",
   "execution_count": 44,
   "metadata": {},
   "outputs": [],
   "source": [
    "# DataFrame of the playerList\n",
    "df = pd.DataFrame(playerList)"
   ]
  },
  {
   "cell_type": "code",
   "execution_count": 46,
   "metadata": {},
   "outputs": [],
   "source": [
    "# Converting the playerList data into a csv file and saving\n",
    "df.to_csv(\"Fifa_players.csv\")"
   ]
  }
 ],
 "metadata": {
  "kernelspec": {
   "display_name": "Python 3",
   "language": "python",
   "name": "python3"
  },
  "language_info": {
   "codemirror_mode": {
    "name": "ipython",
    "version": 3
   },
   "file_extension": ".py",
   "mimetype": "text/x-python",
   "name": "python",
   "nbconvert_exporter": "python",
   "pygments_lexer": "ipython3",
   "version": "3.7.1"
  }
 },
 "nbformat": 4,
 "nbformat_minor": 2
}
